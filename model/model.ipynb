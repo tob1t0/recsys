{
 "cells": [
  {
   "cell_type": "code",
   "execution_count": 1,
   "id": "initial_id",
   "metadata": {
    "collapsed": true,
    "ExecuteTime": {
     "end_time": "2024-07-11T09:18:08.117448400Z",
     "start_time": "2024-07-11T09:18:07.830175Z"
    }
   },
   "outputs": [],
   "source": [
    "from db_app.database import engine\n",
    "import numpy as np\n",
    "import pandas as pd\n",
    "import seaborn as sns\n",
    "import datetime as dt\n",
    "import matplotlib.pyplot as plt\n",
    "from catboost import CatBoostClassifier\n",
    "from sklearn.feature_extraction.text import TfidfVectorizer\n",
    "from sklearn.metrics import roc_auc_score"
   ]
  },
  {
   "cell_type": "code",
   "execution_count": 2,
   "outputs": [],
   "source": [
    "user_data = pd.read_sql(\n",
    "                        \"SELECT * FROM public.user_data;\",\n",
    "                        con=engine,\n",
    "                        index_col=\"user_id\"\n",
    "                        )\n",
    "post_data = pd.read_sql(\n",
    "                        \"SELECT * FROM public.post_text_df;\",\n",
    "                        con=engine,\n",
    "                        index_col=\"post_id\"\n",
    "                        )\n",
    "feed_data = pd.read_sql(\n",
    "                        \"SELECT * FROM public.feed_data limit 10000;\",\n",
    "                        con=engine\n",
    "                        )"
   ],
   "metadata": {
    "collapsed": false,
    "ExecuteTime": {
     "end_time": "2024-07-11T09:19:30.675171800Z",
     "start_time": "2024-07-11T09:18:08.117448400Z"
    }
   },
   "id": "cb67a25e97ffd8b"
  },
  {
   "cell_type": "code",
   "execution_count": 3,
   "outputs": [
    {
     "data": {
      "text/plain": "         gender  age country               city  exp_group       os source\nuser_id                                                                   \n200           1   34  Russia          Degtyarsk          3  Android    ads\n201           0   37  Russia             Abakan          0  Android    ads\n202           1   17  Russia           Smolensk          4  Android    ads\n203           0   18  Russia             Moscow          1      iOS    ads\n204           0   36  Russia  Anzhero-Sudzhensk          3  Android    ads\n205           0   32  Russia         Dugulubgey          3  Android    ads\n206           1   20  Russia            Kamenka          1  Android    ads\n207           1   27  Russia            Groznyy          3      iOS    ads\n208           1   17  Russia               Zima          1  Android    ads\n209           0   17  Russia       Yuzhnouralsk          1  Android    ads",
      "text/html": "<div>\n<style scoped>\n    .dataframe tbody tr th:only-of-type {\n        vertical-align: middle;\n    }\n\n    .dataframe tbody tr th {\n        vertical-align: top;\n    }\n\n    .dataframe thead th {\n        text-align: right;\n    }\n</style>\n<table border=\"1\" class=\"dataframe\">\n  <thead>\n    <tr style=\"text-align: right;\">\n      <th></th>\n      <th>gender</th>\n      <th>age</th>\n      <th>country</th>\n      <th>city</th>\n      <th>exp_group</th>\n      <th>os</th>\n      <th>source</th>\n    </tr>\n    <tr>\n      <th>user_id</th>\n      <th></th>\n      <th></th>\n      <th></th>\n      <th></th>\n      <th></th>\n      <th></th>\n      <th></th>\n    </tr>\n  </thead>\n  <tbody>\n    <tr>\n      <th>200</th>\n      <td>1</td>\n      <td>34</td>\n      <td>Russia</td>\n      <td>Degtyarsk</td>\n      <td>3</td>\n      <td>Android</td>\n      <td>ads</td>\n    </tr>\n    <tr>\n      <th>201</th>\n      <td>0</td>\n      <td>37</td>\n      <td>Russia</td>\n      <td>Abakan</td>\n      <td>0</td>\n      <td>Android</td>\n      <td>ads</td>\n    </tr>\n    <tr>\n      <th>202</th>\n      <td>1</td>\n      <td>17</td>\n      <td>Russia</td>\n      <td>Smolensk</td>\n      <td>4</td>\n      <td>Android</td>\n      <td>ads</td>\n    </tr>\n    <tr>\n      <th>203</th>\n      <td>0</td>\n      <td>18</td>\n      <td>Russia</td>\n      <td>Moscow</td>\n      <td>1</td>\n      <td>iOS</td>\n      <td>ads</td>\n    </tr>\n    <tr>\n      <th>204</th>\n      <td>0</td>\n      <td>36</td>\n      <td>Russia</td>\n      <td>Anzhero-Sudzhensk</td>\n      <td>3</td>\n      <td>Android</td>\n      <td>ads</td>\n    </tr>\n    <tr>\n      <th>205</th>\n      <td>0</td>\n      <td>32</td>\n      <td>Russia</td>\n      <td>Dugulubgey</td>\n      <td>3</td>\n      <td>Android</td>\n      <td>ads</td>\n    </tr>\n    <tr>\n      <th>206</th>\n      <td>1</td>\n      <td>20</td>\n      <td>Russia</td>\n      <td>Kamenka</td>\n      <td>1</td>\n      <td>Android</td>\n      <td>ads</td>\n    </tr>\n    <tr>\n      <th>207</th>\n      <td>1</td>\n      <td>27</td>\n      <td>Russia</td>\n      <td>Groznyy</td>\n      <td>3</td>\n      <td>iOS</td>\n      <td>ads</td>\n    </tr>\n    <tr>\n      <th>208</th>\n      <td>1</td>\n      <td>17</td>\n      <td>Russia</td>\n      <td>Zima</td>\n      <td>1</td>\n      <td>Android</td>\n      <td>ads</td>\n    </tr>\n    <tr>\n      <th>209</th>\n      <td>0</td>\n      <td>17</td>\n      <td>Russia</td>\n      <td>Yuzhnouralsk</td>\n      <td>1</td>\n      <td>Android</td>\n      <td>ads</td>\n    </tr>\n  </tbody>\n</table>\n</div>"
     },
     "execution_count": 3,
     "metadata": {},
     "output_type": "execute_result"
    }
   ],
   "source": [
    "user_data.head(10)"
   ],
   "metadata": {
    "collapsed": false,
    "ExecuteTime": {
     "end_time": "2024-07-11T09:19:30.689266200Z",
     "start_time": "2024-07-11T09:19:30.675171800Z"
    }
   },
   "id": "64fccd34d60cac50"
  },
  {
   "cell_type": "code",
   "execution_count": 4,
   "outputs": [
    {
     "data": {
      "text/plain": "                                                      text     topic\npost_id                                                             \n1        UK economy facing major risks\\n\\nThe UK manufa...  business\n2        Aids and climate top Davos agenda\\n\\nClimate c...  business\n3        Asian quake hits European shares\\n\\nShares in ...  business\n4        India power shares jump on debut\\n\\nShares in ...  business\n5        Lacroix label bought by US firm\\n\\nLuxury good...  business\n6        Insurance bosses plead guilty\\n\\nAnother three...  business\n14       Saudi investor picks up the Savoy\\n\\nLondons f...  business\n2366     RACV | Annual cost of owning and maintaining a...     covid\n7        Turkey-Iran mobile deal at risk\\n\\nTurkeys inv...  business\n8        Parmalat to return to stockmarket\\n\\nParmalat,...  business",
      "text/html": "<div>\n<style scoped>\n    .dataframe tbody tr th:only-of-type {\n        vertical-align: middle;\n    }\n\n    .dataframe tbody tr th {\n        vertical-align: top;\n    }\n\n    .dataframe thead th {\n        text-align: right;\n    }\n</style>\n<table border=\"1\" class=\"dataframe\">\n  <thead>\n    <tr style=\"text-align: right;\">\n      <th></th>\n      <th>text</th>\n      <th>topic</th>\n    </tr>\n    <tr>\n      <th>post_id</th>\n      <th></th>\n      <th></th>\n    </tr>\n  </thead>\n  <tbody>\n    <tr>\n      <th>1</th>\n      <td>UK economy facing major risks\\n\\nThe UK manufa...</td>\n      <td>business</td>\n    </tr>\n    <tr>\n      <th>2</th>\n      <td>Aids and climate top Davos agenda\\n\\nClimate c...</td>\n      <td>business</td>\n    </tr>\n    <tr>\n      <th>3</th>\n      <td>Asian quake hits European shares\\n\\nShares in ...</td>\n      <td>business</td>\n    </tr>\n    <tr>\n      <th>4</th>\n      <td>India power shares jump on debut\\n\\nShares in ...</td>\n      <td>business</td>\n    </tr>\n    <tr>\n      <th>5</th>\n      <td>Lacroix label bought by US firm\\n\\nLuxury good...</td>\n      <td>business</td>\n    </tr>\n    <tr>\n      <th>6</th>\n      <td>Insurance bosses plead guilty\\n\\nAnother three...</td>\n      <td>business</td>\n    </tr>\n    <tr>\n      <th>14</th>\n      <td>Saudi investor picks up the Savoy\\n\\nLondons f...</td>\n      <td>business</td>\n    </tr>\n    <tr>\n      <th>2366</th>\n      <td>RACV | Annual cost of owning and maintaining a...</td>\n      <td>covid</td>\n    </tr>\n    <tr>\n      <th>7</th>\n      <td>Turkey-Iran mobile deal at risk\\n\\nTurkeys inv...</td>\n      <td>business</td>\n    </tr>\n    <tr>\n      <th>8</th>\n      <td>Parmalat to return to stockmarket\\n\\nParmalat,...</td>\n      <td>business</td>\n    </tr>\n  </tbody>\n</table>\n</div>"
     },
     "execution_count": 4,
     "metadata": {},
     "output_type": "execute_result"
    }
   ],
   "source": [
    "post_data.head(10)"
   ],
   "metadata": {
    "collapsed": false,
    "ExecuteTime": {
     "end_time": "2024-07-11T09:19:30.695456400Z",
     "start_time": "2024-07-11T09:19:30.683668200Z"
    }
   },
   "id": "f092c0f64cbf84a6"
  },
  {
   "cell_type": "code",
   "execution_count": 5,
   "outputs": [
    {
     "data": {
      "text/plain": "            timestamp  user_id  post_id action  target\n0 2021-10-21 19:37:09   118420     1369   view       0\n1 2021-10-21 19:37:59   118420     1093   view       0\n2 2021-10-21 19:38:32   118420     2584   view       0\n3 2021-10-21 19:39:46   118420     5355   view       0\n4 2021-10-21 19:42:16   118420      838   view       0\n5 2021-10-21 19:42:31   118420      948   view       0\n6 2021-10-21 19:43:20   118420     6927   view       0\n7 2021-10-21 19:45:40   118420     1888   view       0\n8 2021-10-21 19:48:34   118420     4774   view       0\n9 2021-10-21 19:50:09   118420     2450   view       0",
      "text/html": "<div>\n<style scoped>\n    .dataframe tbody tr th:only-of-type {\n        vertical-align: middle;\n    }\n\n    .dataframe tbody tr th {\n        vertical-align: top;\n    }\n\n    .dataframe thead th {\n        text-align: right;\n    }\n</style>\n<table border=\"1\" class=\"dataframe\">\n  <thead>\n    <tr style=\"text-align: right;\">\n      <th></th>\n      <th>timestamp</th>\n      <th>user_id</th>\n      <th>post_id</th>\n      <th>action</th>\n      <th>target</th>\n    </tr>\n  </thead>\n  <tbody>\n    <tr>\n      <th>0</th>\n      <td>2021-10-21 19:37:09</td>\n      <td>118420</td>\n      <td>1369</td>\n      <td>view</td>\n      <td>0</td>\n    </tr>\n    <tr>\n      <th>1</th>\n      <td>2021-10-21 19:37:59</td>\n      <td>118420</td>\n      <td>1093</td>\n      <td>view</td>\n      <td>0</td>\n    </tr>\n    <tr>\n      <th>2</th>\n      <td>2021-10-21 19:38:32</td>\n      <td>118420</td>\n      <td>2584</td>\n      <td>view</td>\n      <td>0</td>\n    </tr>\n    <tr>\n      <th>3</th>\n      <td>2021-10-21 19:39:46</td>\n      <td>118420</td>\n      <td>5355</td>\n      <td>view</td>\n      <td>0</td>\n    </tr>\n    <tr>\n      <th>4</th>\n      <td>2021-10-21 19:42:16</td>\n      <td>118420</td>\n      <td>838</td>\n      <td>view</td>\n      <td>0</td>\n    </tr>\n    <tr>\n      <th>5</th>\n      <td>2021-10-21 19:42:31</td>\n      <td>118420</td>\n      <td>948</td>\n      <td>view</td>\n      <td>0</td>\n    </tr>\n    <tr>\n      <th>6</th>\n      <td>2021-10-21 19:43:20</td>\n      <td>118420</td>\n      <td>6927</td>\n      <td>view</td>\n      <td>0</td>\n    </tr>\n    <tr>\n      <th>7</th>\n      <td>2021-10-21 19:45:40</td>\n      <td>118420</td>\n      <td>1888</td>\n      <td>view</td>\n      <td>0</td>\n    </tr>\n    <tr>\n      <th>8</th>\n      <td>2021-10-21 19:48:34</td>\n      <td>118420</td>\n      <td>4774</td>\n      <td>view</td>\n      <td>0</td>\n    </tr>\n    <tr>\n      <th>9</th>\n      <td>2021-10-21 19:50:09</td>\n      <td>118420</td>\n      <td>2450</td>\n      <td>view</td>\n      <td>0</td>\n    </tr>\n  </tbody>\n</table>\n</div>"
     },
     "execution_count": 5,
     "metadata": {},
     "output_type": "execute_result"
    }
   ],
   "source": [
    "feed_data.head(10)"
   ],
   "metadata": {
    "collapsed": false,
    "ExecuteTime": {
     "end_time": "2024-07-11T09:19:30.707387400Z",
     "start_time": "2024-07-11T09:19:30.695456400Z"
    }
   },
   "id": "beb6af902c22f346"
  },
  {
   "cell_type": "code",
   "execution_count": 6,
   "outputs": [],
   "source": [
    "data_joined = pd.merge(\n",
    "                        left = feed_data,\n",
    "                        right = user_data,\n",
    "                        left_on=\"user_id\",\n",
    "                        right_on=\"user_id\"\n",
    "                       )\n",
    "data_joined = pd.merge(\n",
    "    left = data_joined,\n",
    "    right = post_data,\n",
    "    left_on=\"post_id\",\n",
    "    right_on=\"post_id\"\n",
    ")"
   ],
   "metadata": {
    "collapsed": false,
    "ExecuteTime": {
     "end_time": "2024-07-11T09:19:32.756839700Z",
     "start_time": "2024-07-11T09:19:30.707387400Z"
    }
   },
   "id": "1c112e7b4e8ff486"
  },
  {
   "cell_type": "code",
   "execution_count": 7,
   "outputs": [
    {
     "data": {
      "text/plain": "             timestamp  user_id  post_id action  target  gender  age country  \\\n0  2021-10-21 19:37:09   118420     1369   view       0       0   41  Russia   \n1  2021-10-21 19:37:59   118420     1093   view       0       0   41  Russia   \n2  2021-10-21 19:38:32   118420     2584   view       0       0   41  Russia   \n3  2021-10-21 19:39:46   118420     5355   view       0       0   41  Russia   \n4  2021-10-21 19:42:16   118420      838   view       0       0   41  Russia   \n5  2021-10-21 19:42:31   118420      948   view       0       0   41  Russia   \n6  2021-10-21 19:43:20   118420     6927   view       0       0   41  Russia   \n7  2021-10-21 19:45:40   118420     1888   view       0       0   41  Russia   \n8  2021-10-21 19:48:34   118420     4774   view       0       0   41  Russia   \n9  2021-10-21 19:50:09   118420     2450   view       0       0   41  Russia   \n10 2021-10-21 19:52:04   118420      299   view       0       0   41  Russia   \n11 2021-10-21 19:54:56   118420     1519   view       0       0   41  Russia   \n12 2021-10-21 19:56:54   118420     2542   view       0       0   41  Russia   \n13 2021-10-21 19:57:14   118420     1309   view       1       0   41  Russia   \n14 2021-10-21 20:00:00   118420     1309   like       0       0   41  Russia   \n15 2021-10-21 20:00:02   118420     5718   view       0       0   41  Russia   \n16 2021-10-22 15:36:29   118420     6449   view       0       0   41  Russia   \n17 2021-10-22 15:39:01   118420     4579   view       0       0   41  Russia   \n18 2021-10-22 15:40:44   118420     2227   view       0       0   41  Russia   \n19 2021-10-22 15:42:27   118420     6912   view       0       0   41  Russia   \n20 2021-10-22 15:45:09   118420     5941   view       0       0   41  Russia   \n21 2021-10-22 15:47:19   118420     5649   view       0       0   41  Russia   \n22 2021-10-22 15:47:59   118420     4619   view       0       0   41  Russia   \n23 2021-10-22 15:50:35   118420     5171   view       0       0   41  Russia   \n24 2021-10-22 15:52:30   118420     1018   view       0       0   41  Russia   \n25 2021-10-22 15:54:38   118420     6330   view       0       0   41  Russia   \n26 2021-10-22 15:57:15   118420     2478   view       0       0   41  Russia   \n27 2021-10-22 15:59:23   118420     2178   view       0       0   41  Russia   \n28 2021-10-22 16:00:46   118420     1049   view       0       0   41  Russia   \n29 2021-10-22 16:03:36   118420     1436   view       0       0   41  Russia   \n30 2021-10-22 16:04:37   118420      634   view       0       0   41  Russia   \n31 2021-10-22 16:06:56   118420     2721   view       0       0   41  Russia   \n32 2021-10-22 16:07:20   118420      637   view       0       0   41  Russia   \n33 2021-10-22 16:09:20   118420     5239   view       0       0   41  Russia   \n34 2021-10-22 16:10:11   118420      743   view       0       0   41  Russia   \n35 2021-10-22 16:12:41   118420     7214   view       0       0   41  Russia   \n36 2021-10-22 16:14:14   118420      801   view       0       0   41  Russia   \n37 2021-10-22 16:15:29   118420     6510   view       1       0   41  Russia   \n38 2021-10-22 16:16:53   118420     6510   like       0       0   41  Russia   \n39 2021-10-22 16:16:55   118420      508   view       1       0   41  Russia   \n40 2021-10-22 16:18:38   118420      508   like       0       0   41  Russia   \n41 2021-10-22 16:18:40   118420     2441   view       0       0   41  Russia   \n42 2021-10-22 16:18:51   118420     2316   view       0       0   41  Russia   \n43 2021-10-22 16:21:24   118420     3953   view       0       0   41  Russia   \n44 2021-10-25 14:56:34   118420     3649   view       0       0   41  Russia   \n45 2021-10-25 14:57:21   118420     6687   view       0       0   41  Russia   \n46 2021-10-25 14:57:52   118420     6913   view       0       0   41  Russia   \n47 2021-10-25 14:58:29   118420      201   view       0       0   41  Russia   \n48 2021-10-25 14:58:42   118420     3088   view       0       0   41  Russia   \n49 2021-10-25 15:00:15   118420     4323   view       0       0   41  Russia   \n\n      city  exp_group       os   source  \\\n0   Moscow          2  Android  organic   \n1   Moscow          2  Android  organic   \n2   Moscow          2  Android  organic   \n3   Moscow          2  Android  organic   \n4   Moscow          2  Android  organic   \n5   Moscow          2  Android  organic   \n6   Moscow          2  Android  organic   \n7   Moscow          2  Android  organic   \n8   Moscow          2  Android  organic   \n9   Moscow          2  Android  organic   \n10  Moscow          2  Android  organic   \n11  Moscow          2  Android  organic   \n12  Moscow          2  Android  organic   \n13  Moscow          2  Android  organic   \n14  Moscow          2  Android  organic   \n15  Moscow          2  Android  organic   \n16  Moscow          2  Android  organic   \n17  Moscow          2  Android  organic   \n18  Moscow          2  Android  organic   \n19  Moscow          2  Android  organic   \n20  Moscow          2  Android  organic   \n21  Moscow          2  Android  organic   \n22  Moscow          2  Android  organic   \n23  Moscow          2  Android  organic   \n24  Moscow          2  Android  organic   \n25  Moscow          2  Android  organic   \n26  Moscow          2  Android  organic   \n27  Moscow          2  Android  organic   \n28  Moscow          2  Android  organic   \n29  Moscow          2  Android  organic   \n30  Moscow          2  Android  organic   \n31  Moscow          2  Android  organic   \n32  Moscow          2  Android  organic   \n33  Moscow          2  Android  organic   \n34  Moscow          2  Android  organic   \n35  Moscow          2  Android  organic   \n36  Moscow          2  Android  organic   \n37  Moscow          2  Android  organic   \n38  Moscow          2  Android  organic   \n39  Moscow          2  Android  organic   \n40  Moscow          2  Android  organic   \n41  Moscow          2  Android  organic   \n42  Moscow          2  Android  organic   \n43  Moscow          2  Android  organic   \n44  Moscow          2  Android  organic   \n45  Moscow          2  Android  organic   \n46  Moscow          2  Android  organic   \n47  Moscow          2  Android  organic   \n48  Moscow          2  Android  organic   \n49  Moscow          2  Android  organic   \n\n                                                 text          topic  \n0   UKIP candidate suspended\\n\\nEurosceptic party ...       politics  \n1   Hitler row over Welsh arts cash\\n\\nAn artist c...       politics  \n2   Im thinking that many of the people who discou...          covid  \n3   I actually liked certain things about this gam...          movie  \n4   Vera Drake leads UK Oscar hopes\\n\\nMike Leighs...  entertainment  \n5   Blair moves to woo Jewish voters\\n\\nTony Blair...       politics  \n6   I just wanna say that amongst all the so-calle...          movie  \n7   Parry relishes Anfield challenge\\n\\nBBC Sport ...          sport  \n8   Lorna Green(Janine Reynaud)is a performance ar...          movie  \n9   Would you take a #Covid19 vaccine? Anti-vaxxer...          covid  \n10  Golden rule boost for Chancellor\\n\\nChancellor...       business  \n11  Arsenal through on penalties\\n\\nArsenal win 4-...          sport  \n12  Sure, right, of course we can’t spend anymore ...          covid  \n13  UK youth interested in politics\\n\\nThe majorit...       politics  \n14  UK youth interested in politics\\n\\nThe majorit...       politics  \n15  This movie had potential and I was willing to ...          movie  \n16  Our reviewer from Toronto told you what you ne...          movie  \n17  This movie is about a young scientist who crea...          movie  \n18  Robots learn robotiquette rules\\n\\nRobots are ...           tech  \n19  Plot Synopsis: Los Angeles in the future. Crim...          movie  \n20  Yes, the movie was that boring and insipid. af...          movie  \n21  When I rented Domino I was expected it to be v...          movie  \n22  I mistakenly thought that this neo-noir effort...          movie  \n23  I normally have no problem walking away from a...          movie  \n24  Muslim police stops more likely\\n\\nUK Muslims ...       politics  \n25  Firstly I would like to point out that I only ...          movie  \n26  Thanks @CTVNews for this in-depth discussion o...          covid  \n27  Musicians upbeat about the net\\n\\nMusicians ar...           tech  \n28  TV debate urged for party chiefs\\n\\nBroadcaste...       politics  \n29  Brizzel to run AAAs in Sheffield\\n\\nBallymena ...          sport  \n30  Triple triumph for Little Britain\\n\\nTop TV cu...  entertainment  \n31  #COVID19 crises in South Africa 🇿🇦 has become ...          covid  \n32  Musical treatment for Capra film\\n\\nThe classi...  entertainment  \n33  This film is terrible. I was really looking fo...          movie  \n34  Pop band Busted to take a break\\n\\nChart-toppi...  entertainment  \n35  Mmm, doesnt a big stack of pancakes sound good...          movie  \n36  Three DJs replace Peel radio show\\n\\nThe late ...  entertainment  \n37  Errol Flynns greatest movie, not just a sports...          movie  \n38  Errol Flynns greatest movie, not just a sports...          movie  \n39  Japan economy slides to recession\\n\\nThe Japan...       business  \n40  Japan economy slides to recession\\n\\nThe Japan...       business  \n41  I think its time we all change to delivery ord...          covid  \n42  Loyalty cards idea for TV addicts\\n\\nViewers c...           tech  \n43  7st 13lbs what jockey is ever gonna make that ...          covid  \n44  @btushar02 @SCBMCHCTC @CMO_Odisha @HFWOdisha @...          covid  \n45  In all truth, this really isnt a movie so much...          movie  \n46  When I saw that this film was being aired on l...          movie  \n47  WMC says Xstrata bid is too low\\n\\nAustralian ...       business  \n48  Madhya Pradesh: Priests offer prayers at Nagch...          covid  \n49  Ingrid Bergman, playing dentist Walter Matthau...          movie  ",
      "text/html": "<div>\n<style scoped>\n    .dataframe tbody tr th:only-of-type {\n        vertical-align: middle;\n    }\n\n    .dataframe tbody tr th {\n        vertical-align: top;\n    }\n\n    .dataframe thead th {\n        text-align: right;\n    }\n</style>\n<table border=\"1\" class=\"dataframe\">\n  <thead>\n    <tr style=\"text-align: right;\">\n      <th></th>\n      <th>timestamp</th>\n      <th>user_id</th>\n      <th>post_id</th>\n      <th>action</th>\n      <th>target</th>\n      <th>gender</th>\n      <th>age</th>\n      <th>country</th>\n      <th>city</th>\n      <th>exp_group</th>\n      <th>os</th>\n      <th>source</th>\n      <th>text</th>\n      <th>topic</th>\n    </tr>\n  </thead>\n  <tbody>\n    <tr>\n      <th>0</th>\n      <td>2021-10-21 19:37:09</td>\n      <td>118420</td>\n      <td>1369</td>\n      <td>view</td>\n      <td>0</td>\n      <td>0</td>\n      <td>41</td>\n      <td>Russia</td>\n      <td>Moscow</td>\n      <td>2</td>\n      <td>Android</td>\n      <td>organic</td>\n      <td>UKIP candidate suspended\\n\\nEurosceptic party ...</td>\n      <td>politics</td>\n    </tr>\n    <tr>\n      <th>1</th>\n      <td>2021-10-21 19:37:59</td>\n      <td>118420</td>\n      <td>1093</td>\n      <td>view</td>\n      <td>0</td>\n      <td>0</td>\n      <td>41</td>\n      <td>Russia</td>\n      <td>Moscow</td>\n      <td>2</td>\n      <td>Android</td>\n      <td>organic</td>\n      <td>Hitler row over Welsh arts cash\\n\\nAn artist c...</td>\n      <td>politics</td>\n    </tr>\n    <tr>\n      <th>2</th>\n      <td>2021-10-21 19:38:32</td>\n      <td>118420</td>\n      <td>2584</td>\n      <td>view</td>\n      <td>0</td>\n      <td>0</td>\n      <td>41</td>\n      <td>Russia</td>\n      <td>Moscow</td>\n      <td>2</td>\n      <td>Android</td>\n      <td>organic</td>\n      <td>Im thinking that many of the people who discou...</td>\n      <td>covid</td>\n    </tr>\n    <tr>\n      <th>3</th>\n      <td>2021-10-21 19:39:46</td>\n      <td>118420</td>\n      <td>5355</td>\n      <td>view</td>\n      <td>0</td>\n      <td>0</td>\n      <td>41</td>\n      <td>Russia</td>\n      <td>Moscow</td>\n      <td>2</td>\n      <td>Android</td>\n      <td>organic</td>\n      <td>I actually liked certain things about this gam...</td>\n      <td>movie</td>\n    </tr>\n    <tr>\n      <th>4</th>\n      <td>2021-10-21 19:42:16</td>\n      <td>118420</td>\n      <td>838</td>\n      <td>view</td>\n      <td>0</td>\n      <td>0</td>\n      <td>41</td>\n      <td>Russia</td>\n      <td>Moscow</td>\n      <td>2</td>\n      <td>Android</td>\n      <td>organic</td>\n      <td>Vera Drake leads UK Oscar hopes\\n\\nMike Leighs...</td>\n      <td>entertainment</td>\n    </tr>\n    <tr>\n      <th>5</th>\n      <td>2021-10-21 19:42:31</td>\n      <td>118420</td>\n      <td>948</td>\n      <td>view</td>\n      <td>0</td>\n      <td>0</td>\n      <td>41</td>\n      <td>Russia</td>\n      <td>Moscow</td>\n      <td>2</td>\n      <td>Android</td>\n      <td>organic</td>\n      <td>Blair moves to woo Jewish voters\\n\\nTony Blair...</td>\n      <td>politics</td>\n    </tr>\n    <tr>\n      <th>6</th>\n      <td>2021-10-21 19:43:20</td>\n      <td>118420</td>\n      <td>6927</td>\n      <td>view</td>\n      <td>0</td>\n      <td>0</td>\n      <td>41</td>\n      <td>Russia</td>\n      <td>Moscow</td>\n      <td>2</td>\n      <td>Android</td>\n      <td>organic</td>\n      <td>I just wanna say that amongst all the so-calle...</td>\n      <td>movie</td>\n    </tr>\n    <tr>\n      <th>7</th>\n      <td>2021-10-21 19:45:40</td>\n      <td>118420</td>\n      <td>1888</td>\n      <td>view</td>\n      <td>0</td>\n      <td>0</td>\n      <td>41</td>\n      <td>Russia</td>\n      <td>Moscow</td>\n      <td>2</td>\n      <td>Android</td>\n      <td>organic</td>\n      <td>Parry relishes Anfield challenge\\n\\nBBC Sport ...</td>\n      <td>sport</td>\n    </tr>\n    <tr>\n      <th>8</th>\n      <td>2021-10-21 19:48:34</td>\n      <td>118420</td>\n      <td>4774</td>\n      <td>view</td>\n      <td>0</td>\n      <td>0</td>\n      <td>41</td>\n      <td>Russia</td>\n      <td>Moscow</td>\n      <td>2</td>\n      <td>Android</td>\n      <td>organic</td>\n      <td>Lorna Green(Janine Reynaud)is a performance ar...</td>\n      <td>movie</td>\n    </tr>\n    <tr>\n      <th>9</th>\n      <td>2021-10-21 19:50:09</td>\n      <td>118420</td>\n      <td>2450</td>\n      <td>view</td>\n      <td>0</td>\n      <td>0</td>\n      <td>41</td>\n      <td>Russia</td>\n      <td>Moscow</td>\n      <td>2</td>\n      <td>Android</td>\n      <td>organic</td>\n      <td>Would you take a #Covid19 vaccine? Anti-vaxxer...</td>\n      <td>covid</td>\n    </tr>\n    <tr>\n      <th>10</th>\n      <td>2021-10-21 19:52:04</td>\n      <td>118420</td>\n      <td>299</td>\n      <td>view</td>\n      <td>0</td>\n      <td>0</td>\n      <td>41</td>\n      <td>Russia</td>\n      <td>Moscow</td>\n      <td>2</td>\n      <td>Android</td>\n      <td>organic</td>\n      <td>Golden rule boost for Chancellor\\n\\nChancellor...</td>\n      <td>business</td>\n    </tr>\n    <tr>\n      <th>11</th>\n      <td>2021-10-21 19:54:56</td>\n      <td>118420</td>\n      <td>1519</td>\n      <td>view</td>\n      <td>0</td>\n      <td>0</td>\n      <td>41</td>\n      <td>Russia</td>\n      <td>Moscow</td>\n      <td>2</td>\n      <td>Android</td>\n      <td>organic</td>\n      <td>Arsenal through on penalties\\n\\nArsenal win 4-...</td>\n      <td>sport</td>\n    </tr>\n    <tr>\n      <th>12</th>\n      <td>2021-10-21 19:56:54</td>\n      <td>118420</td>\n      <td>2542</td>\n      <td>view</td>\n      <td>0</td>\n      <td>0</td>\n      <td>41</td>\n      <td>Russia</td>\n      <td>Moscow</td>\n      <td>2</td>\n      <td>Android</td>\n      <td>organic</td>\n      <td>Sure, right, of course we can’t spend anymore ...</td>\n      <td>covid</td>\n    </tr>\n    <tr>\n      <th>13</th>\n      <td>2021-10-21 19:57:14</td>\n      <td>118420</td>\n      <td>1309</td>\n      <td>view</td>\n      <td>1</td>\n      <td>0</td>\n      <td>41</td>\n      <td>Russia</td>\n      <td>Moscow</td>\n      <td>2</td>\n      <td>Android</td>\n      <td>organic</td>\n      <td>UK youth interested in politics\\n\\nThe majorit...</td>\n      <td>politics</td>\n    </tr>\n    <tr>\n      <th>14</th>\n      <td>2021-10-21 20:00:00</td>\n      <td>118420</td>\n      <td>1309</td>\n      <td>like</td>\n      <td>0</td>\n      <td>0</td>\n      <td>41</td>\n      <td>Russia</td>\n      <td>Moscow</td>\n      <td>2</td>\n      <td>Android</td>\n      <td>organic</td>\n      <td>UK youth interested in politics\\n\\nThe majorit...</td>\n      <td>politics</td>\n    </tr>\n    <tr>\n      <th>15</th>\n      <td>2021-10-21 20:00:02</td>\n      <td>118420</td>\n      <td>5718</td>\n      <td>view</td>\n      <td>0</td>\n      <td>0</td>\n      <td>41</td>\n      <td>Russia</td>\n      <td>Moscow</td>\n      <td>2</td>\n      <td>Android</td>\n      <td>organic</td>\n      <td>This movie had potential and I was willing to ...</td>\n      <td>movie</td>\n    </tr>\n    <tr>\n      <th>16</th>\n      <td>2021-10-22 15:36:29</td>\n      <td>118420</td>\n      <td>6449</td>\n      <td>view</td>\n      <td>0</td>\n      <td>0</td>\n      <td>41</td>\n      <td>Russia</td>\n      <td>Moscow</td>\n      <td>2</td>\n      <td>Android</td>\n      <td>organic</td>\n      <td>Our reviewer from Toronto told you what you ne...</td>\n      <td>movie</td>\n    </tr>\n    <tr>\n      <th>17</th>\n      <td>2021-10-22 15:39:01</td>\n      <td>118420</td>\n      <td>4579</td>\n      <td>view</td>\n      <td>0</td>\n      <td>0</td>\n      <td>41</td>\n      <td>Russia</td>\n      <td>Moscow</td>\n      <td>2</td>\n      <td>Android</td>\n      <td>organic</td>\n      <td>This movie is about a young scientist who crea...</td>\n      <td>movie</td>\n    </tr>\n    <tr>\n      <th>18</th>\n      <td>2021-10-22 15:40:44</td>\n      <td>118420</td>\n      <td>2227</td>\n      <td>view</td>\n      <td>0</td>\n      <td>0</td>\n      <td>41</td>\n      <td>Russia</td>\n      <td>Moscow</td>\n      <td>2</td>\n      <td>Android</td>\n      <td>organic</td>\n      <td>Robots learn robotiquette rules\\n\\nRobots are ...</td>\n      <td>tech</td>\n    </tr>\n    <tr>\n      <th>19</th>\n      <td>2021-10-22 15:42:27</td>\n      <td>118420</td>\n      <td>6912</td>\n      <td>view</td>\n      <td>0</td>\n      <td>0</td>\n      <td>41</td>\n      <td>Russia</td>\n      <td>Moscow</td>\n      <td>2</td>\n      <td>Android</td>\n      <td>organic</td>\n      <td>Plot Synopsis: Los Angeles in the future. Crim...</td>\n      <td>movie</td>\n    </tr>\n    <tr>\n      <th>20</th>\n      <td>2021-10-22 15:45:09</td>\n      <td>118420</td>\n      <td>5941</td>\n      <td>view</td>\n      <td>0</td>\n      <td>0</td>\n      <td>41</td>\n      <td>Russia</td>\n      <td>Moscow</td>\n      <td>2</td>\n      <td>Android</td>\n      <td>organic</td>\n      <td>Yes, the movie was that boring and insipid. af...</td>\n      <td>movie</td>\n    </tr>\n    <tr>\n      <th>21</th>\n      <td>2021-10-22 15:47:19</td>\n      <td>118420</td>\n      <td>5649</td>\n      <td>view</td>\n      <td>0</td>\n      <td>0</td>\n      <td>41</td>\n      <td>Russia</td>\n      <td>Moscow</td>\n      <td>2</td>\n      <td>Android</td>\n      <td>organic</td>\n      <td>When I rented Domino I was expected it to be v...</td>\n      <td>movie</td>\n    </tr>\n    <tr>\n      <th>22</th>\n      <td>2021-10-22 15:47:59</td>\n      <td>118420</td>\n      <td>4619</td>\n      <td>view</td>\n      <td>0</td>\n      <td>0</td>\n      <td>41</td>\n      <td>Russia</td>\n      <td>Moscow</td>\n      <td>2</td>\n      <td>Android</td>\n      <td>organic</td>\n      <td>I mistakenly thought that this neo-noir effort...</td>\n      <td>movie</td>\n    </tr>\n    <tr>\n      <th>23</th>\n      <td>2021-10-22 15:50:35</td>\n      <td>118420</td>\n      <td>5171</td>\n      <td>view</td>\n      <td>0</td>\n      <td>0</td>\n      <td>41</td>\n      <td>Russia</td>\n      <td>Moscow</td>\n      <td>2</td>\n      <td>Android</td>\n      <td>organic</td>\n      <td>I normally have no problem walking away from a...</td>\n      <td>movie</td>\n    </tr>\n    <tr>\n      <th>24</th>\n      <td>2021-10-22 15:52:30</td>\n      <td>118420</td>\n      <td>1018</td>\n      <td>view</td>\n      <td>0</td>\n      <td>0</td>\n      <td>41</td>\n      <td>Russia</td>\n      <td>Moscow</td>\n      <td>2</td>\n      <td>Android</td>\n      <td>organic</td>\n      <td>Muslim police stops more likely\\n\\nUK Muslims ...</td>\n      <td>politics</td>\n    </tr>\n    <tr>\n      <th>25</th>\n      <td>2021-10-22 15:54:38</td>\n      <td>118420</td>\n      <td>6330</td>\n      <td>view</td>\n      <td>0</td>\n      <td>0</td>\n      <td>41</td>\n      <td>Russia</td>\n      <td>Moscow</td>\n      <td>2</td>\n      <td>Android</td>\n      <td>organic</td>\n      <td>Firstly I would like to point out that I only ...</td>\n      <td>movie</td>\n    </tr>\n    <tr>\n      <th>26</th>\n      <td>2021-10-22 15:57:15</td>\n      <td>118420</td>\n      <td>2478</td>\n      <td>view</td>\n      <td>0</td>\n      <td>0</td>\n      <td>41</td>\n      <td>Russia</td>\n      <td>Moscow</td>\n      <td>2</td>\n      <td>Android</td>\n      <td>organic</td>\n      <td>Thanks @CTVNews for this in-depth discussion o...</td>\n      <td>covid</td>\n    </tr>\n    <tr>\n      <th>27</th>\n      <td>2021-10-22 15:59:23</td>\n      <td>118420</td>\n      <td>2178</td>\n      <td>view</td>\n      <td>0</td>\n      <td>0</td>\n      <td>41</td>\n      <td>Russia</td>\n      <td>Moscow</td>\n      <td>2</td>\n      <td>Android</td>\n      <td>organic</td>\n      <td>Musicians upbeat about the net\\n\\nMusicians ar...</td>\n      <td>tech</td>\n    </tr>\n    <tr>\n      <th>28</th>\n      <td>2021-10-22 16:00:46</td>\n      <td>118420</td>\n      <td>1049</td>\n      <td>view</td>\n      <td>0</td>\n      <td>0</td>\n      <td>41</td>\n      <td>Russia</td>\n      <td>Moscow</td>\n      <td>2</td>\n      <td>Android</td>\n      <td>organic</td>\n      <td>TV debate urged for party chiefs\\n\\nBroadcaste...</td>\n      <td>politics</td>\n    </tr>\n    <tr>\n      <th>29</th>\n      <td>2021-10-22 16:03:36</td>\n      <td>118420</td>\n      <td>1436</td>\n      <td>view</td>\n      <td>0</td>\n      <td>0</td>\n      <td>41</td>\n      <td>Russia</td>\n      <td>Moscow</td>\n      <td>2</td>\n      <td>Android</td>\n      <td>organic</td>\n      <td>Brizzel to run AAAs in Sheffield\\n\\nBallymena ...</td>\n      <td>sport</td>\n    </tr>\n    <tr>\n      <th>30</th>\n      <td>2021-10-22 16:04:37</td>\n      <td>118420</td>\n      <td>634</td>\n      <td>view</td>\n      <td>0</td>\n      <td>0</td>\n      <td>41</td>\n      <td>Russia</td>\n      <td>Moscow</td>\n      <td>2</td>\n      <td>Android</td>\n      <td>organic</td>\n      <td>Triple triumph for Little Britain\\n\\nTop TV cu...</td>\n      <td>entertainment</td>\n    </tr>\n    <tr>\n      <th>31</th>\n      <td>2021-10-22 16:06:56</td>\n      <td>118420</td>\n      <td>2721</td>\n      <td>view</td>\n      <td>0</td>\n      <td>0</td>\n      <td>41</td>\n      <td>Russia</td>\n      <td>Moscow</td>\n      <td>2</td>\n      <td>Android</td>\n      <td>organic</td>\n      <td>#COVID19 crises in South Africa 🇿🇦 has become ...</td>\n      <td>covid</td>\n    </tr>\n    <tr>\n      <th>32</th>\n      <td>2021-10-22 16:07:20</td>\n      <td>118420</td>\n      <td>637</td>\n      <td>view</td>\n      <td>0</td>\n      <td>0</td>\n      <td>41</td>\n      <td>Russia</td>\n      <td>Moscow</td>\n      <td>2</td>\n      <td>Android</td>\n      <td>organic</td>\n      <td>Musical treatment for Capra film\\n\\nThe classi...</td>\n      <td>entertainment</td>\n    </tr>\n    <tr>\n      <th>33</th>\n      <td>2021-10-22 16:09:20</td>\n      <td>118420</td>\n      <td>5239</td>\n      <td>view</td>\n      <td>0</td>\n      <td>0</td>\n      <td>41</td>\n      <td>Russia</td>\n      <td>Moscow</td>\n      <td>2</td>\n      <td>Android</td>\n      <td>organic</td>\n      <td>This film is terrible. I was really looking fo...</td>\n      <td>movie</td>\n    </tr>\n    <tr>\n      <th>34</th>\n      <td>2021-10-22 16:10:11</td>\n      <td>118420</td>\n      <td>743</td>\n      <td>view</td>\n      <td>0</td>\n      <td>0</td>\n      <td>41</td>\n      <td>Russia</td>\n      <td>Moscow</td>\n      <td>2</td>\n      <td>Android</td>\n      <td>organic</td>\n      <td>Pop band Busted to take a break\\n\\nChart-toppi...</td>\n      <td>entertainment</td>\n    </tr>\n    <tr>\n      <th>35</th>\n      <td>2021-10-22 16:12:41</td>\n      <td>118420</td>\n      <td>7214</td>\n      <td>view</td>\n      <td>0</td>\n      <td>0</td>\n      <td>41</td>\n      <td>Russia</td>\n      <td>Moscow</td>\n      <td>2</td>\n      <td>Android</td>\n      <td>organic</td>\n      <td>Mmm, doesnt a big stack of pancakes sound good...</td>\n      <td>movie</td>\n    </tr>\n    <tr>\n      <th>36</th>\n      <td>2021-10-22 16:14:14</td>\n      <td>118420</td>\n      <td>801</td>\n      <td>view</td>\n      <td>0</td>\n      <td>0</td>\n      <td>41</td>\n      <td>Russia</td>\n      <td>Moscow</td>\n      <td>2</td>\n      <td>Android</td>\n      <td>organic</td>\n      <td>Three DJs replace Peel radio show\\n\\nThe late ...</td>\n      <td>entertainment</td>\n    </tr>\n    <tr>\n      <th>37</th>\n      <td>2021-10-22 16:15:29</td>\n      <td>118420</td>\n      <td>6510</td>\n      <td>view</td>\n      <td>1</td>\n      <td>0</td>\n      <td>41</td>\n      <td>Russia</td>\n      <td>Moscow</td>\n      <td>2</td>\n      <td>Android</td>\n      <td>organic</td>\n      <td>Errol Flynns greatest movie, not just a sports...</td>\n      <td>movie</td>\n    </tr>\n    <tr>\n      <th>38</th>\n      <td>2021-10-22 16:16:53</td>\n      <td>118420</td>\n      <td>6510</td>\n      <td>like</td>\n      <td>0</td>\n      <td>0</td>\n      <td>41</td>\n      <td>Russia</td>\n      <td>Moscow</td>\n      <td>2</td>\n      <td>Android</td>\n      <td>organic</td>\n      <td>Errol Flynns greatest movie, not just a sports...</td>\n      <td>movie</td>\n    </tr>\n    <tr>\n      <th>39</th>\n      <td>2021-10-22 16:16:55</td>\n      <td>118420</td>\n      <td>508</td>\n      <td>view</td>\n      <td>1</td>\n      <td>0</td>\n      <td>41</td>\n      <td>Russia</td>\n      <td>Moscow</td>\n      <td>2</td>\n      <td>Android</td>\n      <td>organic</td>\n      <td>Japan economy slides to recession\\n\\nThe Japan...</td>\n      <td>business</td>\n    </tr>\n    <tr>\n      <th>40</th>\n      <td>2021-10-22 16:18:38</td>\n      <td>118420</td>\n      <td>508</td>\n      <td>like</td>\n      <td>0</td>\n      <td>0</td>\n      <td>41</td>\n      <td>Russia</td>\n      <td>Moscow</td>\n      <td>2</td>\n      <td>Android</td>\n      <td>organic</td>\n      <td>Japan economy slides to recession\\n\\nThe Japan...</td>\n      <td>business</td>\n    </tr>\n    <tr>\n      <th>41</th>\n      <td>2021-10-22 16:18:40</td>\n      <td>118420</td>\n      <td>2441</td>\n      <td>view</td>\n      <td>0</td>\n      <td>0</td>\n      <td>41</td>\n      <td>Russia</td>\n      <td>Moscow</td>\n      <td>2</td>\n      <td>Android</td>\n      <td>organic</td>\n      <td>I think its time we all change to delivery ord...</td>\n      <td>covid</td>\n    </tr>\n    <tr>\n      <th>42</th>\n      <td>2021-10-22 16:18:51</td>\n      <td>118420</td>\n      <td>2316</td>\n      <td>view</td>\n      <td>0</td>\n      <td>0</td>\n      <td>41</td>\n      <td>Russia</td>\n      <td>Moscow</td>\n      <td>2</td>\n      <td>Android</td>\n      <td>organic</td>\n      <td>Loyalty cards idea for TV addicts\\n\\nViewers c...</td>\n      <td>tech</td>\n    </tr>\n    <tr>\n      <th>43</th>\n      <td>2021-10-22 16:21:24</td>\n      <td>118420</td>\n      <td>3953</td>\n      <td>view</td>\n      <td>0</td>\n      <td>0</td>\n      <td>41</td>\n      <td>Russia</td>\n      <td>Moscow</td>\n      <td>2</td>\n      <td>Android</td>\n      <td>organic</td>\n      <td>7st 13lbs what jockey is ever gonna make that ...</td>\n      <td>covid</td>\n    </tr>\n    <tr>\n      <th>44</th>\n      <td>2021-10-25 14:56:34</td>\n      <td>118420</td>\n      <td>3649</td>\n      <td>view</td>\n      <td>0</td>\n      <td>0</td>\n      <td>41</td>\n      <td>Russia</td>\n      <td>Moscow</td>\n      <td>2</td>\n      <td>Android</td>\n      <td>organic</td>\n      <td>@btushar02 @SCBMCHCTC @CMO_Odisha @HFWOdisha @...</td>\n      <td>covid</td>\n    </tr>\n    <tr>\n      <th>45</th>\n      <td>2021-10-25 14:57:21</td>\n      <td>118420</td>\n      <td>6687</td>\n      <td>view</td>\n      <td>0</td>\n      <td>0</td>\n      <td>41</td>\n      <td>Russia</td>\n      <td>Moscow</td>\n      <td>2</td>\n      <td>Android</td>\n      <td>organic</td>\n      <td>In all truth, this really isnt a movie so much...</td>\n      <td>movie</td>\n    </tr>\n    <tr>\n      <th>46</th>\n      <td>2021-10-25 14:57:52</td>\n      <td>118420</td>\n      <td>6913</td>\n      <td>view</td>\n      <td>0</td>\n      <td>0</td>\n      <td>41</td>\n      <td>Russia</td>\n      <td>Moscow</td>\n      <td>2</td>\n      <td>Android</td>\n      <td>organic</td>\n      <td>When I saw that this film was being aired on l...</td>\n      <td>movie</td>\n    </tr>\n    <tr>\n      <th>47</th>\n      <td>2021-10-25 14:58:29</td>\n      <td>118420</td>\n      <td>201</td>\n      <td>view</td>\n      <td>0</td>\n      <td>0</td>\n      <td>41</td>\n      <td>Russia</td>\n      <td>Moscow</td>\n      <td>2</td>\n      <td>Android</td>\n      <td>organic</td>\n      <td>WMC says Xstrata bid is too low\\n\\nAustralian ...</td>\n      <td>business</td>\n    </tr>\n    <tr>\n      <th>48</th>\n      <td>2021-10-25 14:58:42</td>\n      <td>118420</td>\n      <td>3088</td>\n      <td>view</td>\n      <td>0</td>\n      <td>0</td>\n      <td>41</td>\n      <td>Russia</td>\n      <td>Moscow</td>\n      <td>2</td>\n      <td>Android</td>\n      <td>organic</td>\n      <td>Madhya Pradesh: Priests offer prayers at Nagch...</td>\n      <td>covid</td>\n    </tr>\n    <tr>\n      <th>49</th>\n      <td>2021-10-25 15:00:15</td>\n      <td>118420</td>\n      <td>4323</td>\n      <td>view</td>\n      <td>0</td>\n      <td>0</td>\n      <td>41</td>\n      <td>Russia</td>\n      <td>Moscow</td>\n      <td>2</td>\n      <td>Android</td>\n      <td>organic</td>\n      <td>Ingrid Bergman, playing dentist Walter Matthau...</td>\n      <td>movie</td>\n    </tr>\n  </tbody>\n</table>\n</div>"
     },
     "execution_count": 7,
     "metadata": {},
     "output_type": "execute_result"
    }
   ],
   "source": [
    "data_joined.head(50)\n"
   ],
   "metadata": {
    "collapsed": false,
    "ExecuteTime": {
     "end_time": "2024-07-11T09:19:32.804039700Z",
     "start_time": "2024-07-11T09:19:30.725122800Z"
    }
   },
   "id": "a8130210c55a8a88"
  },
  {
   "cell_type": "code",
   "execution_count": 8,
   "outputs": [],
   "source": [
    "categ_cols = data_joined.select_dtypes(include='object')\n",
    "numeric_cols = data_joined.select_dtypes(exclude='object')"
   ],
   "metadata": {
    "collapsed": false,
    "ExecuteTime": {
     "end_time": "2024-07-11T09:19:32.819753300Z",
     "start_time": "2024-07-11T09:19:30.736848200Z"
    }
   },
   "id": "b6ce7203649886bf"
  },
  {
   "cell_type": "code",
   "execution_count": 9,
   "outputs": [
    {
     "data": {
      "text/plain": "                           timestamp        user_id       post_id  \\\ncount                          10000   10000.000000  10000.000000   \nmean   2021-11-14 13:27:22.027100160  117579.234800   3400.752700   \nmin              2021-10-01 13:21:06    4844.000000      3.000000   \n25%    2021-10-22 16:15:10.249999872  118425.000000   1500.000000   \n50%       2021-11-14 14:00:53.500000  118431.000000   3193.000000   \n75%       2021-12-06 06:27:36.500000  118437.000000   5246.000000   \nmax              2021-12-29 22:28:56  118442.000000   7319.000000   \nstd                              NaN    9800.402947   2115.895184   \n\n             target        gender           age     exp_group  \ncount  10000.000000  10000.000000  10000.000000  10000.000000  \nmean       0.105000      0.541300     23.660800      2.070900  \nmin        0.000000      0.000000     14.000000      0.000000  \n25%        0.000000      0.000000     19.000000      1.000000  \n50%        0.000000      1.000000     22.000000      2.000000  \n75%        0.000000      1.000000     25.000000      3.000000  \nmax        1.000000      1.000000     41.000000      4.000000  \nstd        0.306569      0.498316      6.207173      1.397093  ",
      "text/html": "<div>\n<style scoped>\n    .dataframe tbody tr th:only-of-type {\n        vertical-align: middle;\n    }\n\n    .dataframe tbody tr th {\n        vertical-align: top;\n    }\n\n    .dataframe thead th {\n        text-align: right;\n    }\n</style>\n<table border=\"1\" class=\"dataframe\">\n  <thead>\n    <tr style=\"text-align: right;\">\n      <th></th>\n      <th>timestamp</th>\n      <th>user_id</th>\n      <th>post_id</th>\n      <th>target</th>\n      <th>gender</th>\n      <th>age</th>\n      <th>exp_group</th>\n    </tr>\n  </thead>\n  <tbody>\n    <tr>\n      <th>count</th>\n      <td>10000</td>\n      <td>10000.000000</td>\n      <td>10000.000000</td>\n      <td>10000.000000</td>\n      <td>10000.000000</td>\n      <td>10000.000000</td>\n      <td>10000.000000</td>\n    </tr>\n    <tr>\n      <th>mean</th>\n      <td>2021-11-14 13:27:22.027100160</td>\n      <td>117579.234800</td>\n      <td>3400.752700</td>\n      <td>0.105000</td>\n      <td>0.541300</td>\n      <td>23.660800</td>\n      <td>2.070900</td>\n    </tr>\n    <tr>\n      <th>min</th>\n      <td>2021-10-01 13:21:06</td>\n      <td>4844.000000</td>\n      <td>3.000000</td>\n      <td>0.000000</td>\n      <td>0.000000</td>\n      <td>14.000000</td>\n      <td>0.000000</td>\n    </tr>\n    <tr>\n      <th>25%</th>\n      <td>2021-10-22 16:15:10.249999872</td>\n      <td>118425.000000</td>\n      <td>1500.000000</td>\n      <td>0.000000</td>\n      <td>0.000000</td>\n      <td>19.000000</td>\n      <td>1.000000</td>\n    </tr>\n    <tr>\n      <th>50%</th>\n      <td>2021-11-14 14:00:53.500000</td>\n      <td>118431.000000</td>\n      <td>3193.000000</td>\n      <td>0.000000</td>\n      <td>1.000000</td>\n      <td>22.000000</td>\n      <td>2.000000</td>\n    </tr>\n    <tr>\n      <th>75%</th>\n      <td>2021-12-06 06:27:36.500000</td>\n      <td>118437.000000</td>\n      <td>5246.000000</td>\n      <td>0.000000</td>\n      <td>1.000000</td>\n      <td>25.000000</td>\n      <td>3.000000</td>\n    </tr>\n    <tr>\n      <th>max</th>\n      <td>2021-12-29 22:28:56</td>\n      <td>118442.000000</td>\n      <td>7319.000000</td>\n      <td>1.000000</td>\n      <td>1.000000</td>\n      <td>41.000000</td>\n      <td>4.000000</td>\n    </tr>\n    <tr>\n      <th>std</th>\n      <td>NaN</td>\n      <td>9800.402947</td>\n      <td>2115.895184</td>\n      <td>0.306569</td>\n      <td>0.498316</td>\n      <td>6.207173</td>\n      <td>1.397093</td>\n    </tr>\n  </tbody>\n</table>\n</div>"
     },
     "execution_count": 9,
     "metadata": {},
     "output_type": "execute_result"
    }
   ],
   "source": [
    "numeric_cols.describe()"
   ],
   "metadata": {
    "collapsed": false,
    "ExecuteTime": {
     "end_time": "2024-07-11T09:19:32.819753300Z",
     "start_time": "2024-07-11T09:19:30.740331700Z"
    }
   },
   "id": "a3a65f2f73633b54"
  },
  {
   "cell_type": "code",
   "execution_count": 10,
   "outputs": [
    {
     "data": {
      "text/plain": "       action country    city       os   source  \\\ncount   10000   10000   10000    10000    10000   \nunique      2       3      20        2        2   \ntop      view  Russia  Moscow  Android  organic   \nfreq     8950    9774    1323     6319     9925   \n\n                                                     text  topic  \ncount                                               10000  10000  \nunique                                               4640      7  \ntop     Fox attacks Blairs Tory lies\\n\\nTony Blair lie...  movie  \nfreq                                                   14   3743  ",
      "text/html": "<div>\n<style scoped>\n    .dataframe tbody tr th:only-of-type {\n        vertical-align: middle;\n    }\n\n    .dataframe tbody tr th {\n        vertical-align: top;\n    }\n\n    .dataframe thead th {\n        text-align: right;\n    }\n</style>\n<table border=\"1\" class=\"dataframe\">\n  <thead>\n    <tr style=\"text-align: right;\">\n      <th></th>\n      <th>action</th>\n      <th>country</th>\n      <th>city</th>\n      <th>os</th>\n      <th>source</th>\n      <th>text</th>\n      <th>topic</th>\n    </tr>\n  </thead>\n  <tbody>\n    <tr>\n      <th>count</th>\n      <td>10000</td>\n      <td>10000</td>\n      <td>10000</td>\n      <td>10000</td>\n      <td>10000</td>\n      <td>10000</td>\n      <td>10000</td>\n    </tr>\n    <tr>\n      <th>unique</th>\n      <td>2</td>\n      <td>3</td>\n      <td>20</td>\n      <td>2</td>\n      <td>2</td>\n      <td>4640</td>\n      <td>7</td>\n    </tr>\n    <tr>\n      <th>top</th>\n      <td>view</td>\n      <td>Russia</td>\n      <td>Moscow</td>\n      <td>Android</td>\n      <td>organic</td>\n      <td>Fox attacks Blairs Tory lies\\n\\nTony Blair lie...</td>\n      <td>movie</td>\n    </tr>\n    <tr>\n      <th>freq</th>\n      <td>8950</td>\n      <td>9774</td>\n      <td>1323</td>\n      <td>6319</td>\n      <td>9925</td>\n      <td>14</td>\n      <td>3743</td>\n    </tr>\n  </tbody>\n</table>\n</div>"
     },
     "execution_count": 10,
     "metadata": {},
     "output_type": "execute_result"
    }
   ],
   "source": [
    "categ_cols.describe()"
   ],
   "metadata": {
    "collapsed": false,
    "ExecuteTime": {
     "end_time": "2024-07-11T09:19:32.819753300Z",
     "start_time": "2024-07-11T09:19:30.752719600Z"
    }
   },
   "id": "f11434e3278e34c6"
  },
  {
   "cell_type": "code",
   "execution_count": 11,
   "outputs": [],
   "source": [
    "data_joined[\"month\"] = data_joined[\"timestamp\"].dt.month\n",
    "data_joined[\"weekday\"] = data_joined[\"timestamp\"].dt.weekday\n",
    "data_joined[\"hour\"] = data_joined[\"timestamp\"].dt.hour"
   ],
   "metadata": {
    "collapsed": false,
    "ExecuteTime": {
     "end_time": "2024-07-11T09:19:32.819753300Z",
     "start_time": "2024-07-11T09:19:30.768079100Z"
    }
   },
   "id": "6c460de9493b12a7"
  },
  {
   "cell_type": "code",
   "execution_count": 12,
   "outputs": [],
   "source": [
    "data_joined = data_joined.drop('timestamp', axis=1)"
   ],
   "metadata": {
    "collapsed": false,
    "ExecuteTime": {
     "end_time": "2024-07-11T09:19:32.819753300Z",
     "start_time": "2024-07-11T09:19:30.772474800Z"
    }
   },
   "id": "5906be380eb20bd2"
  },
  {
   "cell_type": "code",
   "execution_count": 13,
   "outputs": [],
   "source": [
    "data_copy = data_joined.copy()"
   ],
   "metadata": {
    "collapsed": false,
    "ExecuteTime": {
     "end_time": "2024-07-11T09:19:32.819753300Z",
     "start_time": "2024-07-11T09:19:30.775897600Z"
    }
   },
   "id": "c57a943f6700a587"
  },
  {
   "cell_type": "code",
   "execution_count": 14,
   "outputs": [
    {
     "data": {
      "text/plain": "             user_id       post_id        target        gender           age  \\\ncount   10000.000000  10000.000000  10000.000000  10000.000000  10000.000000   \nmean   117579.234800   3400.752700      0.105000      0.541300     23.660800   \nstd      9800.402947   2115.895184      0.306569      0.498316      6.207173   \nmin      4844.000000      3.000000      0.000000      0.000000     14.000000   \n25%    118425.000000   1500.000000      0.000000      0.000000     19.000000   \n50%    118431.000000   3193.000000      0.000000      1.000000     22.000000   \n75%    118437.000000   5246.000000      0.000000      1.000000     25.000000   \nmax    118442.000000   7319.000000      1.000000      1.000000     41.000000   \n\n          exp_group        month       weekday          hour  \ncount  10000.000000  10000.00000  10000.000000  10000.000000  \nmean       2.070900     10.96370      3.020000     14.313100  \nstd        1.397093      0.82792      1.979493      4.999457  \nmin        0.000000     10.00000      0.000000      6.000000  \n25%        1.000000     10.00000      1.000000     10.000000  \n50%        2.000000     11.00000      3.000000     14.000000  \n75%        3.000000     12.00000      5.000000     19.000000  \nmax        4.000000     12.00000      6.000000     23.000000  ",
      "text/html": "<div>\n<style scoped>\n    .dataframe tbody tr th:only-of-type {\n        vertical-align: middle;\n    }\n\n    .dataframe tbody tr th {\n        vertical-align: top;\n    }\n\n    .dataframe thead th {\n        text-align: right;\n    }\n</style>\n<table border=\"1\" class=\"dataframe\">\n  <thead>\n    <tr style=\"text-align: right;\">\n      <th></th>\n      <th>user_id</th>\n      <th>post_id</th>\n      <th>target</th>\n      <th>gender</th>\n      <th>age</th>\n      <th>exp_group</th>\n      <th>month</th>\n      <th>weekday</th>\n      <th>hour</th>\n    </tr>\n  </thead>\n  <tbody>\n    <tr>\n      <th>count</th>\n      <td>10000.000000</td>\n      <td>10000.000000</td>\n      <td>10000.000000</td>\n      <td>10000.000000</td>\n      <td>10000.000000</td>\n      <td>10000.000000</td>\n      <td>10000.00000</td>\n      <td>10000.000000</td>\n      <td>10000.000000</td>\n    </tr>\n    <tr>\n      <th>mean</th>\n      <td>117579.234800</td>\n      <td>3400.752700</td>\n      <td>0.105000</td>\n      <td>0.541300</td>\n      <td>23.660800</td>\n      <td>2.070900</td>\n      <td>10.96370</td>\n      <td>3.020000</td>\n      <td>14.313100</td>\n    </tr>\n    <tr>\n      <th>std</th>\n      <td>9800.402947</td>\n      <td>2115.895184</td>\n      <td>0.306569</td>\n      <td>0.498316</td>\n      <td>6.207173</td>\n      <td>1.397093</td>\n      <td>0.82792</td>\n      <td>1.979493</td>\n      <td>4.999457</td>\n    </tr>\n    <tr>\n      <th>min</th>\n      <td>4844.000000</td>\n      <td>3.000000</td>\n      <td>0.000000</td>\n      <td>0.000000</td>\n      <td>14.000000</td>\n      <td>0.000000</td>\n      <td>10.00000</td>\n      <td>0.000000</td>\n      <td>6.000000</td>\n    </tr>\n    <tr>\n      <th>25%</th>\n      <td>118425.000000</td>\n      <td>1500.000000</td>\n      <td>0.000000</td>\n      <td>0.000000</td>\n      <td>19.000000</td>\n      <td>1.000000</td>\n      <td>10.00000</td>\n      <td>1.000000</td>\n      <td>10.000000</td>\n    </tr>\n    <tr>\n      <th>50%</th>\n      <td>118431.000000</td>\n      <td>3193.000000</td>\n      <td>0.000000</td>\n      <td>1.000000</td>\n      <td>22.000000</td>\n      <td>2.000000</td>\n      <td>11.00000</td>\n      <td>3.000000</td>\n      <td>14.000000</td>\n    </tr>\n    <tr>\n      <th>75%</th>\n      <td>118437.000000</td>\n      <td>5246.000000</td>\n      <td>0.000000</td>\n      <td>1.000000</td>\n      <td>25.000000</td>\n      <td>3.000000</td>\n      <td>12.00000</td>\n      <td>5.000000</td>\n      <td>19.000000</td>\n    </tr>\n    <tr>\n      <th>max</th>\n      <td>118442.000000</td>\n      <td>7319.000000</td>\n      <td>1.000000</td>\n      <td>1.000000</td>\n      <td>41.000000</td>\n      <td>4.000000</td>\n      <td>12.00000</td>\n      <td>6.000000</td>\n      <td>23.000000</td>\n    </tr>\n  </tbody>\n</table>\n</div>"
     },
     "execution_count": 14,
     "metadata": {},
     "output_type": "execute_result"
    }
   ],
   "source": [
    "data_copy.describe()"
   ],
   "metadata": {
    "collapsed": false,
    "ExecuteTime": {
     "end_time": "2024-07-11T09:19:32.819753300Z",
     "start_time": "2024-07-11T09:19:30.779680900Z"
    }
   },
   "id": "17481510a0190aa3"
  },
  {
   "cell_type": "code",
   "execution_count": 17,
   "outputs": [],
   "source": [
    "catboost_model = CatBoostClassifier()"
   ],
   "metadata": {
    "collapsed": false,
    "ExecuteTime": {
     "end_time": "2024-07-11T09:20:21.937633400Z",
     "start_time": "2024-07-11T09:20:21.934894500Z"
    }
   },
   "id": "193fe2cc44055b6"
  },
  {
   "cell_type": "code",
   "execution_count": null,
   "outputs": [],
   "source": [],
   "metadata": {
    "collapsed": false,
    "ExecuteTime": {
     "start_time": "2024-07-11T09:19:32.718157900Z"
    }
   },
   "id": "7520f85fcb04e944"
  }
 ],
 "metadata": {
  "kernelspec": {
   "display_name": "Python 3",
   "language": "python",
   "name": "python3"
  },
  "language_info": {
   "codemirror_mode": {
    "name": "ipython",
    "version": 2
   },
   "file_extension": ".py",
   "mimetype": "text/x-python",
   "name": "python",
   "nbconvert_exporter": "python",
   "pygments_lexer": "ipython2",
   "version": "2.7.6"
  }
 },
 "nbformat": 4,
 "nbformat_minor": 5
}
